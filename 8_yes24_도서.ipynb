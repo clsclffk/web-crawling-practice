{
 "cells": [
  {
   "cell_type": "code",
   "execution_count": 1,
   "metadata": {},
   "outputs": [
    {
     "name": "stdout",
     "output_type": "stream",
     "text": [
      "200\n",
      "['소년이 온다', '채식주의자', '우리는 사랑 안에 살고 있다', '작별하지 않는다', '트럼프 2.0 시대', '서랍에 저녁을 넣어 두었다', '하루 한 장 나의 어휘력을 위한 필사 노트', '트렌드 코리아 2025', '흰', '넥서스', '희랍어 시간', '지박소년 하나코 군 22 트리플 특장판', '김미경의 딥마인드', '인생의 의미', '일의 감각', '흔한남매 과학 탐험대 12 공룡과 화석', '어른의 행복은 조용하다', '부모의 어휘력', '성적을 부탁해 티처스', '퓨처 셀프 30만 부 기념 스페셜 에디션', '모순', '세이노의 가르침', '나의 인생만사 답사기', 'ETS 토익 정기시험 기출문제집 1000 Vol. 4 RC']\n"
     ]
    }
   ],
   "source": [
    "# 책 제목, 저자, 가격 추출\n",
    "import requests\n",
    "from bs4 import BeautifulSoup\n",
    "\n",
    "url = 'https://www.yes24.com/Product/Category/BestSeller?categoryNumber=001'\n",
    "response = requests.get(url)\n",
    "soup = BeautifulSoup(response.text, 'html.parser')\n",
    "\n",
    "print(response.status_code)\n",
    "\n",
    "# 제목\n",
    "# #yesBestList > li:nth-child(1) > div > div.item_info > div.info_row.info_name > a.gd_name\n",
    "# 저자\n",
    "# #yesBestList > li:nth-child(1) > div > div.item_info > div.info_row.info_pubGrp > span.authPub.info_auth > a\n",
    "# 가격\n",
    "# #yesBestList > li:nth-child(1) > div > div.item_info > div.info_row.info_price > strong > em\n",
    "\n",
    "titles = [title.get_text(strip=True) for title in soup.select('div.info_row.info_name > a.gd_name')]\n",
    "\n",
    "print(titles)"
   ]
  },
  {
   "cell_type": "code",
   "execution_count": 3,
   "metadata": {},
   "outputs": [
    {
     "data": {
      "text/plain": [
       "['한강',\n",
       " '한강',\n",
       " '유혜주',\n",
       " '조정연',\n",
       " '한강',\n",
       " '박종훈',\n",
       " '한강',\n",
       " '유선경',\n",
       " '김난도',\n",
       " '전미영',\n",
       " '최지혜',\n",
       " '권정윤',\n",
       " '한다혜',\n",
       " '한강',\n",
       " '최진혁',\n",
       " '유발 하라리',\n",
       " '김명주',\n",
       " '한강',\n",
       " '아이다이로',\n",
       " '장혜영',\n",
       " '김미경',\n",
       " '토마스 힐란드 에릭센',\n",
       " '이영래',\n",
       " '조수용',\n",
       " '흔한남매',\n",
       " '김언정',\n",
       " '송은경',\n",
       " '임혜영',\n",
       " '김희목',\n",
       " '태수',\n",
       " '김종원',\n",
       " '정승제',\n",
       " '조정식',\n",
       " '〈성적을 부탁해 티처스〉  제작팀',\n",
       " '벤저민 하디',\n",
       " '최은아',\n",
       " '양귀자',\n",
       " '세이노(SayNo)',\n",
       " '유홍준',\n",
       " 'ETS']"
      ]
     },
     "execution_count": 3,
     "metadata": {},
     "output_type": "execute_result"
    }
   ],
   "source": [
    "# 제목\n",
    "# #yesBestList > li:nth-child(1) > div > div.item_info > div.info_row.info_name > a.gd_name\n",
    "# 저자\n",
    "# #yesBestList > li:nth-child(1) > div > div.item_info > div.info_row.info_pubGrp > span.authPub.info_auth > a\n",
    "# 가격\n",
    "# #yesBestList > li:nth-child(1) > div > div.item_info > div.info_row.info_price > strong > em\n",
    "\n",
    "authors = [author.get_text(strip=True) for author in soup.select('span.authPub.info_auth > a')]\n",
    "authors"
   ]
  },
  {
   "cell_type": "code",
   "execution_count": 4,
   "metadata": {},
   "outputs": [
    {
     "data": {
      "text/plain": [
       "['13,500',\n",
       " '13,500',\n",
       " '17,820',\n",
       " '15,120',\n",
       " '18,000',\n",
       " '10,800',\n",
       " '21,420',\n",
       " '18,000',\n",
       " '13,050',\n",
       " '25,020',\n",
       " '11,700',\n",
       " '5,400',\n",
       " '16,200',\n",
       " '16,920',\n",
       " '19,800',\n",
       " '13,320',\n",
       " '16,020',\n",
       " '17,100',\n",
       " '19,800',\n",
       " '19,800',\n",
       " '11,700',\n",
       " '6,480',\n",
       " '19,800',\n",
       " '17,820']"
      ]
     },
     "execution_count": 4,
     "metadata": {},
     "output_type": "execute_result"
    }
   ],
   "source": [
    "prices = [price.get_text(strip=True) for price in soup.select('div.info_row.info_price > strong > em')]\n",
    "prices"
   ]
  },
  {
   "cell_type": "code",
   "execution_count": 5,
   "metadata": {},
   "outputs": [
    {
     "name": "stdout",
     "output_type": "stream",
     "text": [
      "['소년이 온다', '한강', '13,500']\n",
      "['채식주의자', '한강', '13,500']\n",
      "['우리는 사랑 안에 살고 있다', '유혜주', '17,820']\n",
      "['작별하지 않는다', '조정연', '15,120']\n",
      "['트럼프 2.0 시대', '한강', '18,000']\n",
      "['서랍에 저녁을 넣어 두었다', '박종훈', '10,800']\n",
      "['하루 한 장 나의 어휘력을 위한 필사 노트', '한강', '21,420']\n",
      "['트렌드 코리아 2025', '유선경', '18,000']\n",
      "['흰', '김난도', '13,050']\n",
      "['넥서스', '전미영', '25,020']\n",
      "['희랍어 시간', '최지혜', '11,700']\n",
      "['지박소년 하나코 군 22 트리플 특장판', '권정윤', '5,400']\n",
      "['김미경의 딥마인드', '한다혜', '16,200']\n",
      "['인생의 의미', '한강', '16,920']\n",
      "['일의 감각', '최진혁', '19,800']\n",
      "['흔한남매 과학 탐험대 12 공룡과 화석', '유발 하라리', '13,320']\n",
      "['어른의 행복은 조용하다', '김명주', '16,020']\n",
      "['부모의 어휘력', '한강', '17,100']\n",
      "['성적을 부탁해 티처스', '아이다이로', '19,800']\n",
      "['퓨처 셀프 30만 부 기념 스페셜 에디션', '장혜영', '19,800']\n",
      "['모순', '김미경', '11,700']\n",
      "['세이노의 가르침', '토마스 힐란드 에릭센', '6,480']\n",
      "['나의 인생만사 답사기', '이영래', '19,800']\n",
      "['ETS 토익 정기시험 기출문제집 1000 Vol. 4 RC', '조수용', '17,820']\n"
     ]
    }
   ],
   "source": [
    "books = []\n",
    "for i in range(len(titles)):\n",
    "    book_info = [\n",
    "        titles[i],  # 제목\n",
    "        authors[i],  # 저자\n",
    "        prices[i] # 가격\n",
    "    ]\n",
    "    books.append(book_info)\n",
    "\n",
    "# 책 정보 출력\n",
    "for book in books:\n",
    "    print(book)"
   ]
  },
  {
   "cell_type": "code",
   "execution_count": 8,
   "metadata": {},
   "outputs": [],
   "source": [
    "import pandas as pd\n",
    "\n",
    "df_books = pd.DataFrame(books, columns=['Title','Author','Price'])\n",
    "\n",
    "df_books.to_csv('book_list.csv', index=False, encoding='utf-8-sig')"
   ]
  },
  {
   "cell_type": "code",
   "execution_count": null,
   "metadata": {},
   "outputs": [],
   "source": []
  }
 ],
 "metadata": {
  "kernelspec": {
   "display_name": "django",
   "language": "python",
   "name": "python3"
  },
  "language_info": {
   "codemirror_mode": {
    "name": "ipython",
    "version": 3
   },
   "file_extension": ".py",
   "mimetype": "text/x-python",
   "name": "python",
   "nbconvert_exporter": "python",
   "pygments_lexer": "ipython3",
   "version": "3.11.10"
  }
 },
 "nbformat": 4,
 "nbformat_minor": 2
}
